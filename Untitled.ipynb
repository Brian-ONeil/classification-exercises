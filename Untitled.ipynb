{
 "cells": [
  {
   "cell_type": "code",
   "execution_count": null,
   "id": "41f36632-23c3-410e-bab0-cb54bf3a5ebb",
   "metadata": {},
   "outputs": [],
   "source": [
    "import random"
   ]
  },
  {
   "cell_type": "code",
   "execution_count": null,
   "id": "d8c47b75-1dd6-4ac7-9475-4d52348cf4d0",
   "metadata": {},
   "outputs": [],
   "source": [
    "# Define the deck of cards\n",
    "deck = [2, 3, 4, 5, 6, 7, 8, 9, 10, 10, 10, 10, 11] * 4"
   ]
  },
  {
   "cell_type": "code",
   "execution_count": null,
   "id": "0406889b-b8e0-4002-9d11-bb08bc4c7a45",
   "metadata": {},
   "outputs": [],
   "source": [
    "# Define the function to calculate the value of a hand\n",
    "def hand_value(hand):\n",
    "    # Calculate the value of the hand\n",
    "    value = sum(hand)\n",
    "\n",
    "    # If the hand contains an ace and the value is over 21, reduce the value by 10\n",
    "    if value > 21 and 11 in hand:\n",
    "        hand.remove(11)\n",
    "        hand.append(1)\n",
    "        value = sum(hand)\n",
    "\n",
    "    return value"
   ]
  },
  {
   "cell_type": "code",
   "execution_count": null,
   "id": "35cd6fc5-974e-42fe-ab3a-0a34564d4333",
   "metadata": {},
   "outputs": [],
   "source": []
  },
  {
   "cell_type": "code",
   "execution_count": null,
   "id": "e7cec763-4e57-47f8-9d1c-44fc5d86a4b0",
   "metadata": {},
   "outputs": [],
   "source": []
  },
  {
   "cell_type": "code",
   "execution_count": null,
   "id": "6acc6ab7-3772-46b9-8386-913eb66e852f",
   "metadata": {},
   "outputs": [],
   "source": []
  },
  {
   "cell_type": "code",
   "execution_count": null,
   "id": "560f9da7-7ba4-4c97-96a1-8a8da4b87465",
   "metadata": {},
   "outputs": [
    {
     "name": "stdin",
     "output_type": "stream",
     "text": [
      "Hit or stand?  Hit\n",
      "Hit or stand?  Hit\n",
      "Hit or stand?  Stand\n",
      "Hit or stand?  \n",
      "Hit or stand?  17\n",
      "Hit or stand?  17, 10\n",
      "Hit or stand?  10\n"
     ]
    }
   ],
   "source": [
    "\n",
    "\n",
    "\n",
    "\n",
    "\n",
    "\n",
    "\n",
    "# Define the function to simulate the game\n",
    "def play_game():\n",
    "    # Shuffle the deck\n",
    "    random.shuffle(deck)\n",
    "\n",
    "    # Deal the initial hands\n",
    "    player_hand = [deck.pop(), deck.pop()]\n",
    "    dealer_hand = [deck.pop(), deck.pop()]\n",
    "\n",
    "    # Play the player's turn\n",
    "    while hand_value(player_hand) < 21:\n",
    "        # If the player has a soft 17, hit\n",
    "        if hand_value(player_hand) == 17 and 11 in player_hand:\n",
    "            player_hand.append(deck.pop())\n",
    "        else:\n",
    "            # Otherwise, ask the player to hit or stand\n",
    "            choice = input(\"Hit or stand? \")\n",
    "            if choice.lower() == \"hit\":\n",
    "                player_hand.append(deck.pop())\n",
    "            else:\n",
    "                break\n",
    "\n",
    "    # Play the dealer's turn\n",
    "    while hand_value(dealer_hand) < 17 or (hand_value(dealer_hand) == 17 and 11 in dealer_hand):\n",
    "        dealer_hand.append(deck.pop())\n",
    "\n",
    "    # Determine the outcome of the game\n",
    "    player_value = hand_value(player_hand)\n",
    "    dealer_value = hand_value(dealer_hand)\n",
    "\n",
    "    if player_value > 21:\n",
    "        return \"Bust\", player_hand, dealer_hand\n",
    "    elif dealer_value > 21:\n",
    "        return \"Win\", player_hand, dealer_hand\n",
    "    elif player_value > dealer_value:\n",
    "        return \"Win\", player_hand, dealer_hand\n",
    "    elif player_value < dealer_value:\n",
    "        return \"Lose\", player_hand, dealer_hand\n",
    "    else:\n",
    "        return \"Push\", player_hand, dealer_hand\n",
    "\n",
    "# Simulate the game multiple times and calculate the winning percentage\n",
    "wins = 0\n",
    "games = 10000\n",
    "\n",
    "for i in range(games):\n",
    "    outcome, player_hand, dealer_hand = play_game()\n",
    "    if outcome == \"Win\":\n",
    "        wins += 1\n",
    "\n",
    "winning_percentage = wins / games * 100\n",
    "\n",
    "print(f\"Winning percentage: {winning_percentage:.2f}%\")"
   ]
  },
  {
   "cell_type": "code",
   "execution_count": null,
   "id": "107e953f-6e2e-42d0-afd5-7242d378f82b",
   "metadata": {},
   "outputs": [],
   "source": []
  }
 ],
 "metadata": {
  "kernelspec": {
   "display_name": "Python 3 (ipykernel)",
   "language": "python",
   "name": "python3"
  },
  "language_info": {
   "codemirror_mode": {
    "name": "ipython",
    "version": 3
   },
   "file_extension": ".py",
   "mimetype": "text/x-python",
   "name": "python",
   "nbconvert_exporter": "python",
   "pygments_lexer": "ipython3",
   "version": "3.9.13"
  }
 },
 "nbformat": 4,
 "nbformat_minor": 5
}
